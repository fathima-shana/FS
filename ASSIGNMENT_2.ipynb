{
  "nbformat": 4,
  "nbformat_minor": 0,
  "metadata": {
    "colab": {
      "name": "ASSIGNMENT-2.ipynb",
      "provenance": [],
      "collapsed_sections": []
    },
    "kernelspec": {
      "name": "python3",
      "display_name": "Python 3"
    }
  },
  "cells": [
    {
      "cell_type": "markdown",
      "metadata": {
        "id": "FbOgro-y4tuU"
      },
      "source": [
        "ASSIGNMENT-2"
      ]
    },
    {
      "cell_type": "code",
      "metadata": {
        "id": "-NhX9KcqxqOA",
        "colab": {
          "base_uri": "https://localhost:8080/"
        },
        "outputId": "f1b08fac-e6f7-4873-de9e-16a824210412"
      },
      "source": [
        "marks = int(input(\"enter the mark\"))\r\n",
        "\r\n",
        "if marks >91:\r\n",
        "  print(\"Grade is A\")\r\n",
        "\r\n",
        "elif marks >82 :\r\n",
        "  print(\"Grade is B\")\r\n",
        "else :\r\n",
        "  print(\"Failed\")"
      ],
      "execution_count": 3,
      "outputs": [
        {
          "output_type": "stream",
          "text": [
            "enter the mark82\n",
            "Failed\n"
          ],
          "name": "stdout"
        }
      ]
    },
    {
      "cell_type": "code",
      "metadata": {
        "id": "-MiVg3Z-x7Sc",
        "colab": {
          "base_uri": "https://localhost:8080/"
        },
        "outputId": "9ce29cf9-0d2a-482e-a1cd-98a4fe69033c"
      },
      "source": [
        "username ='farhana'\r\n",
        "password ='67571'\r\n",
        "otp ='236987'\r\n",
        "\r\n",
        "name = input(\"enter name \")\r\n",
        "userPassword = input(\"enter password \")\r\n",
        "userOtp = input(\"enter otp \")\r\n",
        "\r\n",
        "if name==username :\r\n",
        "  if userPassword == password :\r\n",
        "    print(\"welcome \" +username)\r\n",
        "else:\r\n",
        "      print(\"Incorrect password\")\r\n",
        "      print(input(\"enter otp \"))\r\n",
        "if userOtp==otp :\r\n",
        "        print(\"welcome\")\r\n",
        "else :\r\n",
        "          print(\"otp Incorrect\")\r\n"
      ],
      "execution_count": 95,
      "outputs": [
        {
          "output_type": "stream",
          "text": [
            "enter name farhana\n",
            "enter password 5463\n",
            "enter otp 236987\n",
            "welcome\n"
          ],
          "name": "stdout"
        }
      ]
    },
    {
      "cell_type": "code",
      "metadata": {
        "id": "HxUwMF12lw3l"
      },
      "source": [
        "studentMarks = {\r\n",
        "    \"joy\" : 50,\r\n",
        "    \"smile\" : 45,\r\n",
        "    \"cry\" : 99,\r\n",
        "    \"happy\" : 100,}"
      ],
      "execution_count": 74,
      "outputs": []
    },
    {
      "cell_type": "code",
      "metadata": {
        "colab": {
          "base_uri": "https://localhost:8080/"
        },
        "id": "Pa1i1EmXPH8_",
        "outputId": "03735792-1279-4af6-ce88-e2fd36d5424a"
      },
      "source": [
        "studentMarks.keys()"
      ],
      "execution_count": 70,
      "outputs": [
        {
          "output_type": "execute_result",
          "data": {
            "text/plain": [
              "dict_keys(['joy', 'smile', 'cry', 'happy'])"
            ]
          },
          "metadata": {
            "tags": []
          },
          "execution_count": 70
        }
      ]
    },
    {
      "cell_type": "code",
      "metadata": {
        "id": "wNbsCgdtyHhE",
        "colab": {
          "base_uri": "https://localhost:8080/"
        },
        "outputId": "b918932a-e2b2-424d-d00b-cbf3b439e536"
      },
      "source": [
        "for a in studentMarks.keys():\r\n",
        "\r\n",
        "  if studentMarks [a] < 60:\r\n",
        "   print(a+ \" has failed\")"
      ],
      "execution_count": 75,
      "outputs": [
        {
          "output_type": "stream",
          "text": [
            "joy has failed\n",
            "smile has failed\n"
          ],
          "name": "stdout"
        }
      ]
    },
    {
      "cell_type": "code",
      "metadata": {
        "id": "mK-L1bJa7VKV"
      },
      "source": [
        ""
      ],
      "execution_count": null,
      "outputs": []
    }
  ]
}