{
  "nbformat": 4,
  "nbformat_minor": 0,
  "metadata": {
    "colab": {
      "name": "ASSIGNMENT-1.ipynb",
      "provenance": [],
      "collapsed_sections": []
    },
    "kernelspec": {
      "name": "python3",
      "display_name": "Python 3"
    }
  },
  "cells": [
    {
      "cell_type": "markdown",
      "metadata": {
        "id": "1rLqAJHo4XAK"
      },
      "source": [
        "ASSIGNMENT 1:"
      ]
    },
    {
      "cell_type": "code",
      "metadata": {
        "colab": {
          "base_uri": "https://localhost:8080/"
        },
        "id": "gf-2I_ZZKSXU",
        "outputId": "e126be75-7e32-4623-fd48-30738a5bc78f"
      },
      "source": [
        "int(input(\"enter number \")) +5"
      ],
      "execution_count": null,
      "outputs": [
        {
          "output_type": "stream",
          "text": [
            "enter number 4\n"
          ],
          "name": "stdout"
        },
        {
          "output_type": "execute_result",
          "data": {
            "text/plain": [
              "9"
            ]
          },
          "metadata": {
            "tags": []
          },
          "execution_count": 1
        }
      ]
    },
    {
      "cell_type": "code",
      "metadata": {
        "colab": {
          "base_uri": "https://localhost:8080/"
        },
        "id": "FG7HPRjdLE1B",
        "outputId": "773b2da1-b6f8-48d7-8e22-2c5c674a9b6a"
      },
      "source": [
        "int(input(\"enter number \")) -7"
      ],
      "execution_count": null,
      "outputs": [
        {
          "output_type": "stream",
          "text": [
            "enter number 10\n"
          ],
          "name": "stdout"
        },
        {
          "output_type": "execute_result",
          "data": {
            "text/plain": [
              "3"
            ]
          },
          "metadata": {
            "tags": []
          },
          "execution_count": 2
        }
      ]
    },
    {
      "cell_type": "code",
      "metadata": {
        "colab": {
          "base_uri": "https://localhost:8080/"
        },
        "id": "fN2IE9uILUz5",
        "outputId": "355773bf-7f21-4fd4-d6cc-9d636c735286"
      },
      "source": [
        "int(input(\"enter number \")) /2"
      ],
      "execution_count": null,
      "outputs": [
        {
          "output_type": "stream",
          "text": [
            "enter number 100\n"
          ],
          "name": "stdout"
        },
        {
          "output_type": "execute_result",
          "data": {
            "text/plain": [
              "50.0"
            ]
          },
          "metadata": {
            "tags": []
          },
          "execution_count": 3
        }
      ]
    },
    {
      "cell_type": "code",
      "metadata": {
        "colab": {
          "base_uri": "https://localhost:8080/"
        },
        "id": "DtLXOj7SLc5S",
        "outputId": "0cce9f0e-bfb5-40ee-d13e-709a2a603a67"
      },
      "source": [
        "int(input(\"enter number \")) * 4"
      ],
      "execution_count": null,
      "outputs": [
        {
          "output_type": "stream",
          "text": [
            "enter number 8\n"
          ],
          "name": "stdout"
        },
        {
          "output_type": "execute_result",
          "data": {
            "text/plain": [
              "32"
            ]
          },
          "metadata": {
            "tags": []
          },
          "execution_count": 4
        }
      ]
    },
    {
      "cell_type": "code",
      "metadata": {
        "colab": {
          "base_uri": "https://localhost:8080/"
        },
        "id": "NAuOdjVkL5lk",
        "outputId": "7a2550f5-2e4d-471a-e454-2d086bffadb8"
      },
      "source": [
        "firstNumber = int(input(\"enter number\"))\n",
        "secondNumber = int(input(\"enter number \"))\n",
        "\n",
        "print(firstNumber + secondNumber)\n",
        "print(firstNumber - secondNumber)\n",
        "print(firstNumber * secondNumber)\n",
        "print(firstNumber / secondNumber)"
      ],
      "execution_count": null,
      "outputs": [
        {
          "output_type": "stream",
          "text": [
            "enter number10\n",
            "enter number 2\n",
            "12\n",
            "8\n",
            "20\n",
            "5.0\n"
          ],
          "name": "stdout"
        }
      ]
    },
    {
      "cell_type": "code",
      "metadata": {
        "colab": {
          "base_uri": "https://localhost:8080/"
        },
        "id": "u9uAiah6VOpL",
        "outputId": "fb3b3c97-e6a2-4946-8e75-3e54fa341b59"
      },
      "source": [
        "x = int(input(\"enter number \"))\n",
        "y = int(input(\"enter number \"))\n",
        "\n",
        "(x+y)*x"
      ],
      "execution_count": null,
      "outputs": [
        {
          "output_type": "stream",
          "text": [
            "enter number 4\n",
            "enter number 7\n"
          ],
          "name": "stdout"
        },
        {
          "output_type": "execute_result",
          "data": {
            "text/plain": [
              "44"
            ]
          },
          "metadata": {
            "tags": []
          },
          "execution_count": 39
        }
      ]
    }
  ]
}